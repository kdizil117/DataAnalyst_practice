{
 "cells": [
  {
   "cell_type": "markdown",
   "metadata": {},
   "source": [
    "Create data frames and import necessary libraries "
   ]
  },
  {
   "cell_type": "code",
   "execution_count": 2,
   "metadata": {},
   "outputs": [],
   "source": [
    "import pandas as pd\n",
    "import matplotlib.pyplot as plt\n",
    "import sqlite3\n",
    "\n",
    "driver_df = pd.read_csv('Drivers_Data.csv')\n",
    "Rides_df = pd.read_csv('Rides_Data.csv')\n",
    "\n"
   ]
  },
  {
   "cell_type": "markdown",
   "metadata": {},
   "source": [
    "Diplay data and count rows"
   ]
  },
  {
   "cell_type": "code",
   "execution_count": 3,
   "metadata": {},
   "outputs": [
    {
     "name": "stdout",
     "output_type": "stream",
     "text": [
      "   Driver_ID            Name  Age           City  Experience_Years  \\\n",
      "0        101   William Black   56  San Francisco                15   \n",
      "1        102   Holly Sherman   39    Los Angeles                19   \n",
      "2        103    Crystal Cook   57        Chicago                 9   \n",
      "3        104  Tiffany Wright   58  San Francisco                19   \n",
      "4        105    Jeffrey King   49    Los Angeles                 4   \n",
      "\n",
      "   Average_Rating Active_Status  \n",
      "0             4.8        Active  \n",
      "1             4.3        Active  \n",
      "2             4.5      Inactive  \n",
      "3             4.4      Inactive  \n",
      "4             4.4      Inactive  \n",
      "number of rows: 100\n"
     ]
    }
   ],
   "source": [
    "print(driver_df.head())\n",
    "print(f'number of rows: {len(driver_df)}')\n"
   ]
  },
  {
   "cell_type": "code",
   "execution_count": 4,
   "metadata": {},
   "outputs": [
    {
     "name": "stdout",
     "output_type": "stream",
     "text": [
      "   Ride_ID  Driver_ID           City        Date  Distance_km  Duration_min  \\\n",
      "0        1        110          Miami  11/11/2024          5.8             8   \n",
      "1        2        112    Los Angeles  11/19/2024          2.6             5   \n",
      "2        3        147  San Francisco  11/14/2024          4.6             8   \n",
      "3        4        120        Chicago  11/12/2024         26.5            46   \n",
      "4        5        193  San Francisco   11/7/2024         15.9            26   \n",
      "\n",
      "    Fare  Rating  Promo_Code  \n",
      "0  11.01     3.8         NaN  \n",
      "1   5.69     4.8         NaN  \n",
      "2   8.95     4.5    WELCOME5  \n",
      "3  54.88     4.7      SAVE20  \n",
      "4  20.45     4.2  DISCOUNT10  \n",
      "number of rows: 1000\n"
     ]
    }
   ],
   "source": [
    "print(Rides_df.head())\n",
    "print(f'number of rows: {len(Rides_df)}')"
   ]
  },
  {
   "cell_type": "markdown",
   "metadata": {},
   "source": [
    "Clean data and check for duplicates and think about how you are going to normalize"
   ]
  },
  {
   "cell_type": "code",
   "execution_count": 5,
   "metadata": {},
   "outputs": [
    {
     "name": "stdout",
     "output_type": "stream",
     "text": [
      "Empty DataFrame\n",
      "Columns: [Driver_ID, Name, Age, City, Experience_Years, Average_Rating, Active_Status]\n",
      "Index: []\n"
     ]
    }
   ],
   "source": [
    "driver_dup = driver_df.duplicated()\n",
    "print(driver_df[driver_dup])"
   ]
  },
  {
   "cell_type": "code",
   "execution_count": 6,
   "metadata": {},
   "outputs": [
    {
     "name": "stdout",
     "output_type": "stream",
     "text": [
      "Empty DataFrame\n",
      "Columns: [Ride_ID, Driver_ID, City, Date, Distance_km, Duration_min, Fare, Rating, Promo_Code]\n",
      "Index: []\n"
     ]
    }
   ],
   "source": [
    "rides_dup = Rides_df.duplicated()\n",
    "print(Rides_df[rides_dup])"
   ]
  },
  {
   "cell_type": "markdown",
   "metadata": {},
   "source": [
    "There are no duplicates and this seems like pretty clean data set. I need to normalize this and create the database and connect it."
   ]
  },
  {
   "cell_type": "code",
   "execution_count": 7,
   "metadata": {},
   "outputs": [
    {
     "name": "stdout",
     "output_type": "stream",
     "text": [
      "database was formed\n"
     ]
    }
   ],
   "source": [
    "try:\n",
    "    conn = sqlite3.connect('Ride_Share.db')\n",
    "    print('database was formed')\n",
    "except:\n",
    "    print('database not formed')"
   ]
  },
  {
   "cell_type": "markdown",
   "metadata": {},
   "source": [
    "this is how to just upload a table into sqlite without adding constraints and what not. Also you need to create a new table and delete the old one to update a table in sqlite."
   ]
  },
  {
   "cell_type": "code",
   "execution_count": 19,
   "metadata": {},
   "outputs": [
    {
     "data": {
      "text/plain": [
       "1000"
      ]
     },
     "execution_count": 19,
     "metadata": {},
     "output_type": "execute_result"
    }
   ],
   "source": [
    "driver_df.to_sql('Driver',conn,if_exists='replace')\n",
    "Rides_df.to_sql('Rides',conn,if_exists='replace')"
   ]
  },
  {
   "cell_type": "markdown",
   "metadata": {},
   "source": [
    "I will use a for loop too update these tables after creating them and adding constraints. cursor() seems to create a pointer for sql. "
   ]
  },
  {
   "cell_type": "code",
   "execution_count": 29,
   "metadata": {},
   "outputs": [
    {
     "data": {
      "text/plain": [
       "<sqlite3.Cursor at 0x759bc975c740>"
      ]
     },
     "execution_count": 29,
     "metadata": {},
     "output_type": "execute_result"
    }
   ],
   "source": [
    "cursor = conn.cursor()\n",
    "\n",
    "driver_table = '''CREATE TABLE Drivers(\n",
    "                        Driver_ID char(9) NOT NULL,\n",
    "                        Name TEXT NOT NULL,\n",
    "                        Age int NOT NULL,\n",
    "                        City TEXT NOT NULL,\n",
    "                        Experience_Years int NOT NULL,\n",
    "                        Average_Rating REAL,\n",
    "                        Active_Status TEXT NOT NULL, \n",
    "                        CONSTRAINT PK_Driverid PRIMARY KEY (Driver_ID),\n",
    "                        CONSTRAINT Drivers_status CHECK (Active_status LIKE 'Active' or 'Inactive'));'''\n",
    "cursor.execute(driver_table)\n",
    "   \n",
    "\n",
    "   \n"
   ]
  },
  {
   "cell_type": "code",
   "execution_count": 34,
   "metadata": {},
   "outputs": [
    {
     "data": {
      "text/plain": [
       "100"
      ]
     },
     "execution_count": 34,
     "metadata": {},
     "output_type": "execute_result"
    }
   ],
   "source": [
    "driver_df.to_sql('Drivers',conn, if_exists='replace', index=False)\n",
    "    \n",
    "    "
   ]
  },
  {
   "cell_type": "code",
   "execution_count": 32,
   "metadata": {},
   "outputs": [
    {
     "data": {
      "text/plain": [
       "<sqlite3.Cursor at 0x759bc975c740>"
      ]
     },
     "execution_count": 32,
     "metadata": {},
     "output_type": "execute_result"
    }
   ],
   "source": [
    "Rides_table = '''CREATE TABLE Rides(\n",
    "                        Ride_ID char(9) NOT NULL,\n",
    "                        Driver_ID char(9) NOT NULL,\n",
    "                        City TEXT NOT NULL,\n",
    "                        Date int NOT NULL,\n",
    "                        Distance_km REAL NOT NULL,\n",
    "                        Duration_min INT NOT NULL,\n",
    "                        Fare REAL NOT NULL,\n",
    "                        Rating REAL,\n",
    "                        Promo_Code varchar(50), \n",
    "                        CONSTRAINT PK_Rideid PRIMARY KEY (Ride_ID),\n",
    "                        CONSTRAINT Rides_Date CHECK (Date LIKE '[0-9][0-9]/[0-9][0-9]/[0-9][0-9][0-9][0-9]'));'''\n",
    "cursor.execute(Rides_table)"
   ]
  },
  {
   "cell_type": "code",
   "execution_count": 35,
   "metadata": {},
   "outputs": [
    {
     "data": {
      "text/plain": [
       "1000"
      ]
     },
     "execution_count": 35,
     "metadata": {},
     "output_type": "execute_result"
    }
   ],
   "source": [
    "Rides_df.to_sql('Rides',conn, if_exists='replace', index=False)"
   ]
  },
  {
   "cell_type": "markdown",
   "metadata": {},
   "source": [
    "Database created!!!!!"
   ]
  }
 ],
 "metadata": {
  "kernelspec": {
   "display_name": "kallinux999",
   "language": "python",
   "name": "python3"
  },
  "language_info": {
   "codemirror_mode": {
    "name": "ipython",
    "version": 3
   },
   "file_extension": ".py",
   "mimetype": "text/x-python",
   "name": "python",
   "nbconvert_exporter": "python",
   "pygments_lexer": "ipython3",
   "version": "3.12.3"
  }
 },
 "nbformat": 4,
 "nbformat_minor": 2
}
